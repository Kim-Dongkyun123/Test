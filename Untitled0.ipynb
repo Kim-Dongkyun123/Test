{
  "nbformat": 4,
  "nbformat_minor": 0,
  "metadata": {
    "colab": {
      "provenance": [],
      "authorship_tag": "ABX9TyO27eyJpk0nbfDKdm+kWksh",
      "include_colab_link": true
    },
    "kernelspec": {
      "name": "python3",
      "display_name": "Python 3"
    },
    "language_info": {
      "name": "python"
    }
  },
  "cells": [
    {
      "cell_type": "markdown",
      "metadata": {
        "id": "view-in-github",
        "colab_type": "text"
      },
      "source": [
        "<a href=\"https://colab.research.google.com/github/Kim-Dongkyun123/Test/blob/main/Untitled0.ipynb\" target=\"_parent\"><img src=\"https://colab.research.google.com/assets/colab-badge.svg\" alt=\"Open In Colab\"/></a>"
      ]
    },
    {
      "cell_type": "code",
      "execution_count": 1,
      "metadata": {
        "colab": {
          "base_uri": "https://localhost:8080/"
        },
        "id": "Vr3TzChI8MLz",
        "outputId": "39258668-a1e5-43e0-b96b-158d5f96296b"
      },
      "outputs": [
        {
          "output_type": "stream",
          "name": "stdout",
          "text": [
            "Hello World\n"
          ]
        }
      ],
      "source": [
        "print(\"Hello World\")"
      ]
    },
    {
      "cell_type": "markdown",
      "source": [
        "헬로월드 테스트\n"
      ],
      "metadata": {
        "id": "iaBoHjb-8bSq"
      }
    },
    {
      "cell_type": "code",
      "source": [
        "print(\"안녕하세요\\n저는 김동균입니다.\\n이번 수업 잘 부탁드립니다\")"
      ],
      "metadata": {
        "colab": {
          "base_uri": "https://localhost:8080/"
        },
        "id": "8_YxYsQw8eN1",
        "outputId": "e1b99753-0f1b-4c79-dc3d-7291b114ea4b"
      },
      "execution_count": 3,
      "outputs": [
        {
          "output_type": "stream",
          "name": "stdout",
          "text": [
            "안녕하세요\n",
            "저는 김동균입니다.\n",
            "이번 수업 잘 부탁드립니다\n"
          ]
        }
      ]
    },
    {
      "cell_type": "code",
      "source": [
        "x=range(10)"
      ],
      "metadata": {
        "id": "_TCMAAAb8rJW"
      },
      "execution_count": 4,
      "outputs": []
    },
    {
      "cell_type": "code",
      "source": [
        "for value in x:\n",
        "  print(value)"
      ],
      "metadata": {
        "colab": {
          "base_uri": "https://localhost:8080/"
        },
        "id": "LwBuUAyt8vUT",
        "outputId": "4a6c31bb-ccf5-4eb4-c170-e69d94f47074"
      },
      "execution_count": 5,
      "outputs": [
        {
          "output_type": "stream",
          "name": "stdout",
          "text": [
            "0\n",
            "1\n",
            "2\n",
            "3\n",
            "4\n",
            "5\n",
            "6\n",
            "7\n",
            "8\n",
            "9\n"
          ]
        }
      ]
    }
  ]
}